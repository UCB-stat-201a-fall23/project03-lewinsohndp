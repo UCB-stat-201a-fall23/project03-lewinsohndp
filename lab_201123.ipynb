{
 "cells": [
  {
   "cell_type": "code",
   "execution_count": 1,
   "metadata": {},
   "outputs": [],
   "source": [
    "import numpy as np\n",
    "import matplotlib.pyplot as plt"
   ]
  },
  {
   "cell_type": "markdown",
   "metadata": {},
   "source": [
    "## Question 1"
   ]
  },
  {
   "cell_type": "markdown",
   "metadata": {},
   "source": [
    "### a"
   ]
  },
  {
   "cell_type": "code",
   "execution_count": 3,
   "metadata": {},
   "outputs": [
    {
     "name": "stdout",
     "output_type": "stream",
     "text": [
      "[[0.2 0.7 0.1]\n",
      " [0.2 0.5 0.3]\n",
      " [0.2 0.4 0.4]]\n"
     ]
    }
   ],
   "source": [
    "transition_mat = np.array([[0.2, 0.7, 0.1],\n",
    "                            [0.2, 0.5, 0.3],\n",
    "                            [0.2, 0.4, 0.4]])\n",
    "print(transition_mat)"
   ]
  },
  {
   "cell_type": "markdown",
   "metadata": {},
   "source": [
    "### b"
   ]
  },
  {
   "cell_type": "code",
   "execution_count": 4,
   "metadata": {},
   "outputs": [],
   "source": [
    "# use this function\n",
    "def markov_steps(n, transition_mat, start):\n",
    "    \"\"\"simulate markov process step by step from starting state\"\"\"\n",
    "    all_states = []\n",
    "    all_states.append(start)\n",
    "    for i in range(n):\n",
    "        all_states.append(np.random.choice([1,2,3], p=transition_mat[all_states[i]-1]))\n",
    "    \n",
    "    return all_states"
   ]
  },
  {
   "cell_type": "code",
   "execution_count": 5,
   "metadata": {},
   "outputs": [
    {
     "name": "stdout",
     "output_type": "stream",
     "text": [
      "[1, 2, 1, 2, 2, 3, 2, 3, 2, 3, 3, 1, 1, 1, 3, 3, 3, 3, 3, 3, 2]\n"
     ]
    },
    {
     "data": {
      "text/plain": [
       "Text(0, 0.5, 'State')"
      ]
     },
     "execution_count": 5,
     "metadata": {},
     "output_type": "execute_result"
    },
    {
     "data": {
      "image/png": "[encoded data removed]",
      "text/plain": [
       "<Figure size 432x288 with 1 Axes>"
      ]
     },
     "metadata": {
      "needs_background": "light"
     },
     "output_type": "display_data"
    }
   ],
   "source": [
    "one_sim = markov_steps(20, transition_mat, 1)\n",
    "print(one_sim)\n",
    "plt.scatter(range(len(one_sim)), one_sim)\n",
    "plt.xlabel('Step')\n",
    "plt.ylabel('State')"
   ]
  },
  {
   "cell_type": "markdown",
   "metadata": {},
   "source": [
    "## Question 2"
   ]
  },
  {
   "cell_type": "markdown",
   "metadata": {},
   "source": [
    "### a"
   ]
  },
  {
   "cell_type": "markdown",
   "metadata": {},
   "source": [
    "I can solve for the eigenvector with eigenvalue 1 of the transpose of the transition matrix since this is the equivalent of finding a vector when multiplied by the transmission matrix that stays the same. "
   ]
  },
  {
   "cell_type": "code",
   "execution_count": 7,
   "metadata": {},
   "outputs": [
    {
     "data": {
      "text/plain": [
       "array([ 1.0000000e+00, -3.6140242e-17,  1.0000000e-01])"
      ]
     },
     "execution_count": 7,
     "metadata": {},
     "output_type": "execute_result"
    }
   ],
   "source": [
    "evalues, evectors = np.linalg.eig(transition_mat.T)\n",
    "evalues"
   ]
  },
  {
   "cell_type": "code",
   "execution_count": 8,
   "metadata": {},
   "outputs": [
    {
     "data": {
      "text/plain": [
       "array([0.2       , 0.51111111, 0.28888889])"
      ]
     },
     "execution_count": 8,
     "metadata": {},
     "output_type": "execute_result"
    }
   ],
   "source": [
    "pi_inf = evectors[:,0]\n",
    "pi_inf = pi_inf / pi_inf.sum()\n",
    "pi_inf"
   ]
  },
  {
   "cell_type": "markdown",
   "metadata": {},
   "source": [
    "The above is the stationary state of the process."
   ]
  },
  {
   "cell_type": "markdown",
   "metadata": {},
   "source": [
    "Check this works"
   ]
  },
  {
   "cell_type": "code",
   "execution_count": 9,
   "metadata": {},
   "outputs": [
    {
     "data": {
      "text/plain": [
       "array([0.2       , 0.51111111, 0.28888889])"
      ]
     },
     "execution_count": 9,
     "metadata": {},
     "output_type": "execute_result"
    }
   ],
   "source": [
    "new_pi = np.matmul(pi_inf, transition_mat)\n",
    "new_pi"
   ]
  },
  {
   "cell_type": "code",
   "execution_count": 10,
   "metadata": {},
   "outputs": [
    {
     "data": {
      "text/plain": [
       "True"
      ]
     },
     "execution_count": 10,
     "metadata": {},
     "output_type": "execute_result"
    }
   ],
   "source": [
    "np.allclose(pi_inf, new_pi)"
   ]
  },
  {
   "cell_type": "markdown",
   "metadata": {},
   "source": [
    "### b\n"
   ]
  },
  {
   "cell_type": "code",
   "execution_count": 11,
   "metadata": {},
   "outputs": [],
   "source": [
    "def markov_sim(n, transition_mat, pi_0):\n",
    "    \"\"\"Get probabilities\"\"\"\n",
    "\n",
    "    transition_mat_n = np.linalg.matrix_power(transition_mat, n)\n",
    "    pi_n = np.matmul(pi_0, transition_mat_n)\n",
    "\n",
    "    return pi_n"
   ]
  },
  {
   "cell_type": "code",
   "execution_count": 12,
   "metadata": {},
   "outputs": [
    {
     "data": {
      "text/plain": [
       "Text(0, 0.5, 'L2 Distance')"
      ]
     },
     "execution_count": 12,
     "metadata": {},
     "output_type": "execute_result"
    },
    {
     "data": {
      "image/png": "[encoded data removed]",
      "text/plain": [
       "<Figure size 432x288 with 1 Axes>"
      ]
     },
     "metadata": {
      "needs_background": "light"
     },
     "output_type": "display_data"
    }
   ],
   "source": [
    "pi_0 = [0,0,1]\n",
    "\n",
    "dists = []\n",
    "for i in range(50):\n",
    "    pi_i = markov_sim(i, transition_mat, pi_0)\n",
    "    dists.append(np.linalg.norm(pi_i - pi_inf, ord=2))\n",
    "\n",
    "plt.scatter(range(len(dists)), dists)\n",
    "plt.xlabel('Steps')\n",
    "plt.ylabel('L2 Distance')"
   ]
  },
  {
   "cell_type": "code",
   "execution_count": 13,
   "metadata": {},
   "outputs": [
    {
     "data": {
      "text/plain": [
       "array([0.2       , 0.51111111, 0.28888889])"
      ]
     },
     "execution_count": 13,
     "metadata": {},
     "output_type": "execute_result"
    }
   ],
   "source": [
    "pi_i"
   ]
  },
  {
   "cell_type": "code",
   "execution_count": 14,
   "metadata": {},
   "outputs": [
    {
     "data": {
      "text/plain": [
       "array([0.2       , 0.51111111, 0.28888889])"
      ]
     },
     "execution_count": 14,
     "metadata": {},
     "output_type": "execute_result"
    }
   ],
   "source": [
    "pi_inf"
   ]
  },
  {
   "cell_type": "code",
   "execution_count": 15,
   "metadata": {},
   "outputs": [
    {
     "data": {
      "text/plain": [
       "Text(0, 0.5, 'L2 Distance')"
      ]
     },
     "execution_count": 15,
     "metadata": {},
     "output_type": "execute_result"
    },
    {
     "data": {
      "image/png": "[encoded data removed]",
      "text/plain": [
       "<Figure size 432x288 with 1 Axes>"
      ]
     },
     "metadata": {
      "needs_background": "light"
     },
     "output_type": "display_data"
    }
   ],
   "source": [
    "pi_0 = [.1,.8,.1]\n",
    "\n",
    "dists = []\n",
    "for i in range(50):\n",
    "    pi_i = markov_sim(i, transition_mat, pi_0)\n",
    "    dists.append(np.linalg.norm(pi_i - pi_inf, ord=2))\n",
    "\n",
    "plt.scatter(range(len(dists)), dists)\n",
    "plt.xlabel('Steps')\n",
    "plt.ylabel('L2 Distance')"
   ]
  },
  {
   "cell_type": "code",
   "execution_count": 16,
   "metadata": {},
   "outputs": [
    {
     "data": {
      "text/plain": [
       "array([0.2       , 0.51111111, 0.28888889])"
      ]
     },
     "execution_count": 16,
     "metadata": {},
     "output_type": "execute_result"
    }
   ],
   "source": [
    "pi_i"
   ]
  },
  {
   "cell_type": "code",
   "execution_count": 17,
   "metadata": {},
   "outputs": [
    {
     "data": {
      "text/plain": [
       "array([0.2       , 0.51111111, 0.28888889])"
      ]
     },
     "execution_count": 17,
     "metadata": {},
     "output_type": "execute_result"
    }
   ],
   "source": [
    "pi_inf"
   ]
  },
  {
   "cell_type": "markdown",
   "metadata": {},
   "source": [
    "We do see pi_i go to pi_infinity at mutliple conditions, very quickly."
   ]
  },
  {
   "cell_type": "markdown",
   "metadata": {},
   "source": [
    "## Question 3"
   ]
  },
  {
   "cell_type": "code",
   "execution_count": 26,
   "metadata": {},
   "outputs": [
    {
     "name": "stdout",
     "output_type": "stream",
     "text": [
      "Mean exit time: 4.618375\n"
     ]
    },
    {
     "data": {
      "image/png": "[encoded data removed]",
      "text/plain": [
       "<Figure size 432x288 with 1 Axes>"
      ]
     },
     "metadata": {
      "needs_background": "light"
     },
     "output_type": "display_data"
    }
   ],
   "source": [
    "sims = 40000\n",
    "starting = 1\n",
    "exit = 3\n",
    "exit_times = np.zeros(sims)\n",
    "for i in range(sims):\n",
    "    temp_steps = markov_steps(50, transition_mat, start=starting)\n",
    "    exit_time = temp_steps.index(exit)\n",
    "    exit_times[i] = exit_time\n",
    "\n",
    "print('Mean exit time: ' + str(exit_times.mean()))\n",
    "plt.hist(exit_times)\n",
    "plt.xlabel('Exit Time')\n",
    "plt.title('Counts of Exit time starting from state 1')\n",
    "plt.show()"
   ]
  },
  {
   "cell_type": "code",
   "execution_count": 25,
   "metadata": {},
   "outputs": [
    {
     "name": "stdout",
     "output_type": "stream",
     "text": [
      "Mean Exit time: 3.858\n"
     ]
    },
    {
     "data": {
      "image/png": "[encoded data removed]",
      "text/plain": [
       "<Figure size 432x288 with 1 Axes>"
      ]
     },
     "metadata": {
      "needs_background": "light"
     },
     "output_type": "display_data"
    }
   ],
   "source": [
    "sims = 40000\n",
    "starting = 2\n",
    "exit = 3\n",
    "exit_times = np.zeros(sims)\n",
    "for i in range(sims):\n",
    "    temp_steps = markov_steps(40, transition_mat, start=starting)\n",
    "    exit_time = temp_steps.index(exit)\n",
    "    exit_times[i] = exit_time\n",
    "\n",
    "print('Mean Exit time: ' + str(exit_times.mean()))\n",
    "plt.hist(exit_times)\n",
    "plt.xlabel('Exit Time')\n",
    "plt.title('Counts of Exit time starting from state 2')\n",
    "plt.show()"
   ]
  }
 ],
 "metadata": {
  "kernelspec": {
   "display_name": "thesis",
   "language": "python",
   "name": "python3"
  },
  "language_info": {
   "codemirror_mode": {
    "name": "ipython",
    "version": 3
   },
   "file_extension": ".py",
   "mimetype": "text/x-python",
   "name": "python",
   "nbconvert_exporter": "python",
   "pygments_lexer": "ipython3",
   "version": "3.9.7"
  }
 },
 "nbformat": 4,
 "nbformat_minor": 2
}
